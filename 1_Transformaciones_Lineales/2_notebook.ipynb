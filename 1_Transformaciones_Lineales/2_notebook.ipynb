{
 "cells": [
  {
   "cell_type": "markdown",
   "metadata": {},
   "source": [
    "## Descomposicion de Matrices\n",
    "Para este capitulo debes recordar que es la transpuesta de una matriz, sino te vas a confundir. "
   ]
  },
  {
   "cell_type": "markdown",
   "metadata": {},
   "source": [
    "\n",
    "\n",
    "**Descomponer una matriz** quiere decir encontrar dos o más matrices que me ayuden a escribir la matriz original en una forma alterna sin que deje de ser la misma matriz. Como por ejemplo escribir el numero 100 como la multiplicacion de tres numeros 25*2*2, no deja de ser el mismo numero\n",
    "\n",
    "El concepto matematico de la descomposicion de una matriz es el de *diagonalizacion* que veremos a continuacion.\n"
   ]
  },
  {
   "cell_type": "markdown",
   "metadata": {},
   "source": [
    "## Diagonalizacion de una matriz\n",
    "\n",
    "Una matriz $A$ es diagonizable si existe una matriz invertible $P$ y una matriz diagonal $D$ tal que $A=PDP^{-1}$\n",
    "\n",
    "Ejemplo: Sea la matriz $A$ del capitulo anterior, diagonalizar dicha matriz."
   ]
  },
  {
   "cell_type": "code",
   "execution_count": 2,
   "metadata": {},
   "outputs": [
    {
     "name": "stdout",
     "output_type": "stream",
     "text": [
      "[[3 2]\n",
      " [4 1]]\n"
     ]
    }
   ],
   "source": [
    "import numpy as np\n",
    "\n",
    "A = np.array([[3,2], [4,1]])\n",
    "print(A)\n"
   ]
  },
  {
   "cell_type": "markdown",
   "metadata": {},
   "source": [
    "Esta matriz tenia dos valores caracteristiccos dado por $\\lambda=[5, -1]$ y dos vectores caracteristicos en este orden:\n",
    " [1, 1] y [1 -2]. Por tanto, la matriz $D$ correspondera a la Diagonal de valores caracteristicos"
   ]
  },
  {
   "cell_type": "code",
   "execution_count": 3,
   "metadata": {},
   "outputs": [
    {
     "name": "stdout",
     "output_type": "stream",
     "text": [
      "[[ 5  0]\n",
      " [ 0 -1]]\n"
     ]
    }
   ],
   "source": [
    "D = np.diag([5,-1])\n",
    "print(D)"
   ]
  },
  {
   "cell_type": "markdown",
   "metadata": {},
   "source": [
    "$P$ correspondera a los vectores propios, donde cada columna es un vector propio"
   ]
  },
  {
   "cell_type": "code",
   "execution_count": 4,
   "metadata": {},
   "outputs": [
    {
     "name": "stdout",
     "output_type": "stream",
     "text": [
      "[[ 1  1]\n",
      " [ 1 -2]]\n"
     ]
    }
   ],
   "source": [
    "P = np.array([[1,1], [1,-2]])\n",
    "P = P.T\n",
    "print(P)"
   ]
  },
  {
   "cell_type": "markdown",
   "metadata": {},
   "source": [
    "$P^{-1}$ es la inversa de $P$"
   ]
  },
  {
   "cell_type": "code",
   "execution_count": 5,
   "metadata": {},
   "outputs": [
    {
     "name": "stdout",
     "output_type": "stream",
     "text": [
      "[[ 0.66666667  0.33333333]\n",
      " [ 0.33333333 -0.33333333]]\n"
     ]
    }
   ],
   "source": [
    "inv_P = np.linalg.inv(P)\n",
    "print(inv_P)"
   ]
  },
  {
   "cell_type": "code",
   "execution_count": 6,
   "metadata": {},
   "outputs": [
    {
     "name": "stdout",
     "output_type": "stream",
     "text": [
      "[[3. 2.]\n",
      " [4. 1.]]\n"
     ]
    }
   ],
   "source": [
    "A_calc = P.dot(D).dot(inv_P)\n",
    "print(A_calc)"
   ]
  },
  {
   "cell_type": "markdown",
   "metadata": {},
   "source": [
    "Lo que acabamos de demostrar es que la matriz $A$ es diagonizable porque A = A_calc"
   ]
  },
  {
   "cell_type": "markdown",
   "metadata": {},
   "source": [
    "### Caso especial, matriz simetrica\n",
    "\n",
    "Recordemos que una matriz simetrica es aquella que $A = A^T$. Por ejemplo. Sea la matriz A"
   ]
  },
  {
   "cell_type": "code",
   "execution_count": 33,
   "metadata": {},
   "outputs": [
    {
     "name": "stdout",
     "output_type": "stream",
     "text": [
      "[[3 2]\n",
      " [2 3]]\n"
     ]
    },
    {
     "data": {
      "text/plain": [
       "array([[ True,  True],\n",
       "       [ True,  True]])"
      ]
     },
     "execution_count": 33,
     "metadata": {},
     "output_type": "execute_result"
    }
   ],
   "source": [
    "A = np.array([[3,2],[2,3]])\n",
    "print(A)\n",
    "A == A.T"
   ]
  },
  {
   "cell_type": "markdown",
   "metadata": {},
   "source": [
    "Observamso que A es simetrica; ahora calculamos sus autovalores y autovectores"
   ]
  },
  {
   "cell_type": "code",
   "execution_count": 29,
   "metadata": {},
   "outputs": [
    {
     "name": "stdout",
     "output_type": "stream",
     "text": [
      "[[5. 0.]\n",
      " [0. 1.]]\n"
     ]
    }
   ],
   "source": [
    "autovalores, autovectores = np.linalg.eig(A)\n",
    "\n",
    "D = np.diag(autovalores)\n",
    "print(D)\n"
   ]
  },
  {
   "cell_type": "code",
   "execution_count": 30,
   "metadata": {},
   "outputs": [
    {
     "name": "stdout",
     "output_type": "stream",
     "text": [
      "[[ 0.70710678 -0.70710678]\n",
      " [ 0.70710678  0.70710678]]\n"
     ]
    }
   ],
   "source": [
    "print(autovectores)"
   ]
  },
  {
   "cell_type": "markdown",
   "metadata": {},
   "source": [
    "¿Pero que otra propiedad tiene una matriz simetrica? \n",
    "\n",
    "Si A es simetrica, entonces $A=PDP^{T}$, y como sabemos computacionalmentes es mas conveniente calculara la transpuesta que la inversa. Asi que tener en cuenta de que nuestras matrices sean simetricas"
   ]
  },
  {
   "cell_type": "code",
   "execution_count": 34,
   "metadata": {},
   "outputs": [
    {
     "name": "stdout",
     "output_type": "stream",
     "text": [
      "[[3. 2.]\n",
      " [2. 3.]]\n"
     ]
    }
   ],
   "source": [
    "P = autovectores\n",
    "A_calc = P.dot(D).dot(P.T)\n",
    "print(A_calc)"
   ]
  },
  {
   "cell_type": "markdown",
   "metadata": {},
   "source": [
    "Acabamos de demostrar que cuando una matriz es simetrica entoncves se cumple que $A=PDP^T$"
   ]
  },
  {
   "cell_type": "markdown",
   "metadata": {},
   "source": [
    "## Como descomponer una matriz que no es cuadrada\n",
    "\n",
    "La descomposicion en autovalores y autovectores tal y como lo vimos en el capitulo anterior, solo es posible cuando la matriza es cuadrada. ¿Eso significa que no la podamos descomponer? NO, lo podemos hacer usando **valores singulares** y **vectores singulares**\n",
    "\n",
    "En dicha descomposicion existen tres componentes o matrices: U, V, D. Donde $U$ y $D$ son ortogonales, es decir, donde cada uno de sus vectores son ortonormales; y $D$ es una matriz diagonal\n",
    "\n",
    "- La matriz  $D$ tiene en su diagonal, todos los valores singulares\n",
    "- $V$ contiene los vectores derechos singulares\n",
    "- $U$ contine los vectores izqueirdos singulares\n",
    "\n",
    "donde:\n",
    "\n",
    "## $A = UDV$\n",
    "\n",
    "NUMPY hace uso de la funcion SVD que permite calcular todo lo anterior. Advierto que los calculos de SVD son distintos a los hechos por el instructor"
   ]
  },
  {
   "cell_type": "code",
   "execution_count": 43,
   "metadata": {},
   "outputs": [
    {
     "name": "stdout",
     "output_type": "stream",
     "text": [
      "[[1 2 3]\n",
      " [4 5 6]]\n"
     ]
    }
   ],
   "source": [
    "A = [i for i in range(1,7)]\n",
    "A = np.array(A).reshape(2,3)\n",
    "\n",
    "print(A)"
   ]
  },
  {
   "cell_type": "code",
   "execution_count": 40,
   "metadata": {},
   "outputs": [
    {
     "name": "stdout",
     "output_type": "stream",
     "text": [
      "[[-0.3863177  -0.92236578]\n",
      " [-0.92236578  0.3863177 ]]\n"
     ]
    }
   ],
   "source": [
    "U, D, V = np.linalg.svd(A)\n",
    "print(U)\n"
   ]
  },
  {
   "cell_type": "code",
   "execution_count": 47,
   "metadata": {},
   "outputs": [
    {
     "name": "stdout",
     "output_type": "stream",
     "text": [
      "[9.508032   0.77286964]\n"
     ]
    }
   ],
   "source": [
    "print(D)\n"
   ]
  },
  {
   "cell_type": "code",
   "execution_count": 56,
   "metadata": {},
   "outputs": [
    {
     "name": "stdout",
     "output_type": "stream",
     "text": [
      "[[9.508032   0.        ]\n",
      " [0.         0.77286964]]\n"
     ]
    }
   ],
   "source": [
    "D = np.diag(D)\n",
    "print(D)\n"
   ]
  },
  {
   "cell_type": "code",
   "execution_count": 49,
   "metadata": {},
   "outputs": [
    {
     "name": "stdout",
     "output_type": "stream",
     "text": [
      "[[-0.42866713 -0.56630692 -0.7039467 ]\n",
      " [ 0.80596391  0.11238241 -0.58119908]\n",
      " [ 0.40824829 -0.81649658  0.40824829]]\n"
     ]
    }
   ],
   "source": [
    "print(V)"
   ]
  },
  {
   "cell_type": "markdown",
   "metadata": {},
   "source": [
    "Demostremos que $A=UDV$ Pero antes tengamos en cuenta las propiedades de las matrices, porque si no va a generar un error en el codigo\n"
   ]
  },
  {
   "cell_type": "code",
   "execution_count": 60,
   "metadata": {},
   "outputs": [
    {
     "name": "stdout",
     "output_type": "stream",
     "text": [
      "(2, 2)\n",
      "(2, 2)\n",
      "(3, 3)\n"
     ]
    }
   ],
   "source": [
    "print(U.shape)\n",
    "print(D.shape)\n",
    "print(V.shape)"
   ]
  },
  {
   "cell_type": "markdown",
   "metadata": {},
   "source": [
    "Al multiplicar U por D dara como resultado una matriz 2x2 que no se podra multiplicar por una matriz 3x3. Entonces el truco es añadir una columna de zeros a la matriz diagonal."
   ]
  },
  {
   "cell_type": "code",
   "execution_count": 77,
   "metadata": {},
   "outputs": [
    {
     "name": "stdout",
     "output_type": "stream",
     "text": [
      "[[0.]\n",
      " [0.]]\n",
      "(2, 1)\n"
     ]
    }
   ],
   "source": [
    "ceros = np.zeros((2,1))\n",
    "print(ceros)\n",
    "print(ceros.shape)\n"
   ]
  },
  {
   "cell_type": "code",
   "execution_count": 79,
   "metadata": {},
   "outputs": [
    {
     "name": "stdout",
     "output_type": "stream",
     "text": [
      "[[9.508032   0.         0.        ]\n",
      " [0.         0.77286964 0.        ]]\n"
     ]
    }
   ],
   "source": [
    "D = np.concatenate((D,ceros), axis=1)\n",
    "print(D)"
   ]
  },
  {
   "cell_type": "markdown",
   "metadata": {},
   "source": [
    "AHora si podemos realizar la operacion completa"
   ]
  },
  {
   "cell_type": "code",
   "execution_count": 89,
   "metadata": {},
   "outputs": [
    {
     "name": "stdout",
     "output_type": "stream",
     "text": [
      "[[1. 2. 3.]\n",
      " [4. 5. 6.]]\n"
     ]
    }
   ],
   "source": [
    "A_calc = U.dot(D).dot(V)\n",
    "print(A_calc)"
   ]
  },
  {
   "cell_type": "markdown",
   "metadata": {},
   "source": [
    "Como hemos visto la matriz calculada es igual a la matriz original"
   ]
  }
 ],
 "metadata": {
  "kernelspec": {
   "display_name": "Python 3.8.10 ('env': venv)",
   "language": "python",
   "name": "python3"
  },
  "language_info": {
   "codemirror_mode": {
    "name": "ipython",
    "version": 3
   },
   "file_extension": ".py",
   "mimetype": "text/x-python",
   "name": "python",
   "nbconvert_exporter": "python",
   "pygments_lexer": "ipython3",
   "version": "3.8.10"
  },
  "orig_nbformat": 4,
  "vscode": {
   "interpreter": {
    "hash": "0e30e19f6a6aedfe14e7563687b3bf0a5e46706c77de22f23e271e96c4b12948"
   }
  }
 },
 "nbformat": 4,
 "nbformat_minor": 2
}
