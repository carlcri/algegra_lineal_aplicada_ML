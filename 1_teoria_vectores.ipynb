{
 "cells": [
  {
   "cell_type": "markdown",
   "metadata": {},
   "source": [
    "# Teoria Vectores"
   ]
  },
  {
   "cell_type": "markdown",
   "metadata": {},
   "source": [
    "Este capitulo tiene la intencion de dar las suficientes basicas teoricas para entender el manejo de vecortes, interpretar y leer con claridad los conceptos dados en textos, y en general servir de complemento al curso"
   ]
  },
  {
   "cell_type": "markdown",
   "metadata": {},
   "source": [
    "## El simbolo $R^n$\n",
    "\n",
    "Se usa el simbolo $R^n$ para denotar el conjunto de todos los vectores de dimension *n*. \n",
    "\n",
    "$(a_1, a_2, a_3..., a_n)$ donde *n* es un numero real\n",
    "\n",
    "## Vector renglon de *n* componentes\n",
    "\n",
    "el vector $v_0$ es un vector renglon de 5 componentes"
   ]
  },
  {
   "cell_type": "code",
   "execution_count": 84,
   "metadata": {},
   "outputs": [
    {
     "name": "stdout",
     "output_type": "stream",
     "text": [
      "v= [-1  3  3  5 -1]\n"
     ]
    }
   ],
   "source": [
    "import numpy as np\n",
    "\n",
    "v_0 = np.array([-1,3,3,5,-1])\n",
    "print('v=',v_0)"
   ]
  },
  {
   "cell_type": "markdown",
   "metadata": {},
   "source": [
    "## Vector columna de *n* componentes\n",
    "\n",
    "el vector $v_1$ es un vector columna de 3 componentes"
   ]
  },
  {
   "cell_type": "code",
   "execution_count": 85,
   "metadata": {},
   "outputs": [
    {
     "name": "stdout",
     "output_type": "stream",
     "text": [
      "[[ 2]\n",
      " [ 1]\n",
      " [-1]]\n"
     ]
    }
   ],
   "source": [
    "\n",
    "v_1 = np.array([[2],[1],[-1]])\n",
    "print(v_1)"
   ]
  },
  {
   "cell_type": "markdown",
   "metadata": {},
   "source": [
    "## Producto Escalar o Producto Punto\n",
    "\n",
    "Sean a y b dos vectores. Entonces el *producto escalar* de **a** y **b**, donde\n",
    "\n",
    "**a** = $a_1, a_2, a_3, ..., a_n$ y \n",
    "**b** = $b_1, b_2, b_3, ..., b_n$\n",
    "\n",
    "denotado por **a · b**, esta dado por:\n",
    "\n",
    "**a · b** = $a_1b_1 + a_2b_2 + a_3b_3 + ... + a_nb_n$\n",
    "\n",
    "Observe que el producto escalar de dos vectores de dimensión **n** es un escalar (es decir, es un número).\n",
    "\n",
    "### Ejemplo\n",
    "\n",
    "Encuentre el producto escalar entre a=[-4,-2,3] y b=[3,-2,-5]"
   ]
  },
  {
   "cell_type": "code",
   "execution_count": 86,
   "metadata": {},
   "outputs": [
    {
     "data": {
      "text/plain": [
       "-23"
      ]
     },
     "execution_count": 86,
     "metadata": {},
     "output_type": "execute_result"
    }
   ],
   "source": [
    "v_a = np.array([-4,-2,3])\n",
    "v_b = np.array([3,-2,-5])\n",
    "\n",
    "np.dot(v_a, v_b)"
   ]
  },
  {
   "cell_type": "markdown",
   "metadata": {},
   "source": [
    "### Ejemplo\n",
    "\n",
    "Encuentre el producto escalar entre a=[2,-5,4,-6] y b=[1,0,-7,3]"
   ]
  },
  {
   "cell_type": "code",
   "execution_count": 87,
   "metadata": {},
   "outputs": [
    {
     "data": {
      "text/plain": [
       "-44"
      ]
     },
     "execution_count": 87,
     "metadata": {},
     "output_type": "execute_result"
    }
   ],
   "source": [
    "v_a = np.array([2,-5,4,-6])\n",
    "v_b = np.array([1,0,-7,3])\n",
    "np.dot(v_a,v_b)"
   ]
  },
  {
   "cell_type": "markdown",
   "metadata": {},
   "source": [
    "# Vectores en $R^2$ y $R^3$\n",
    "\n",
    "## Vectores en el Plano"
   ]
  },
  {
   "cell_type": "markdown",
   "metadata": {},
   "source": [
    "$R^2$ es el conjunto de vectores (x1, x2) con xl y x2 números reales. Como cualquier punto en el plano se puede escribir en la forma (x, y), es evidente que se puede pensar que cualquier punto en el plano es un vector en $R^2$\n",
    ", y viceversa. \n",
    "\n",
    "De este modo, los términos “el plano” y $R^2$ con frecuencia son intercambiables. Sin embargo, para muchas aplicaciones físicas (incluyendo las nociones de fuerza, velocidad, aceleración y momento) es importante pensar en un vector no como un punto sino como una entidad que tiene “longitud” y “dirección”. Ahora se verá cómo se lleva a cabo esto."
   ]
  },
  {
   "cell_type": "markdown",
   "metadata": {},
   "source": [
    "### Ejemplo\n",
    "\n",
    "Sean dos puntos en el plano donde P=[1,5] y Q=[2,3], grafique el vector que va de P a Q y luego el Vector que va de Q a P"
   ]
  },
  {
   "cell_type": "code",
   "execution_count": 88,
   "metadata": {},
   "outputs": [
    {
     "name": "stdout",
     "output_type": "stream",
     "text": [
      "[ 1  5  1 -2]\n"
     ]
    },
    {
     "data": {
      "text/plain": [
       "Text(0.5, 1.0, 'vector PQ')"
      ]
     },
     "execution_count": 88,
     "metadata": {},
     "output_type": "execute_result"
    },
    {
     "data": {
      "image/png": "[encoded data removed]",
      "text/plain": [
       "<Figure size 432x288 with 1 Axes>"
      ]
     },
     "metadata": {
      "needs_background": "light"
     },
     "output_type": "display_data"
    }
   ],
   "source": [
    "%matplotlib inline\n",
    "\n",
    "import numpy as np \n",
    "import matplotlib.pyplot as plt\n",
    "\n",
    "%run \"Funciones/graficarVectores1.ipynb\"\n",
    "\n",
    "init_point = np.array([1,5])\n",
    "end_point = np.array([2,3])\n",
    "offset = end_point - init_point\n",
    "\n",
    "x_y = np.concatenate((init_point,offset),axis=None)\n",
    "print(x_y)\n",
    "\n",
    "plt.arrow(*x_y, color = 'orange',width = 0.03)\n",
    "plt.title('vector PQ')\n"
   ]
  },
  {
   "cell_type": "code",
   "execution_count": 89,
   "metadata": {},
   "outputs": [
    {
     "name": "stdout",
     "output_type": "stream",
     "text": [
      "[ 2  3 -1  2]\n"
     ]
    },
    {
     "data": {
      "text/plain": [
       "Text(0.5, 1.0, 'vector QP')"
      ]
     },
     "execution_count": 89,
     "metadata": {},
     "output_type": "execute_result"
    },
    {
     "data": {
      "image/png": "[encoded data removed]",
      "text/plain": [
       "<Figure size 432x288 with 1 Axes>"
      ]
     },
     "metadata": {
      "needs_background": "light"
     },
     "output_type": "display_data"
    }
   ],
   "source": [
    "init_point, end_point = end_point, init_point\n",
    "offset = end_point - init_point\n",
    "\n",
    "x_y = np.concatenate((init_point,offset),axis=None)\n",
    "print(x_y)\n",
    "\n",
    "plt.arrow(*x_y, color = 'red',width = 0.03)\n",
    "plt.title('vector QP')"
   ]
  },
  {
   "cell_type": "markdown",
   "metadata": {},
   "source": [
    "### Definicion Algebraica de un Vector\n",
    "\n",
    "Un **vector v** en el plano xy es un par ordenado de números reales (a, b). Los números a y b se denominan elementos o componentes del vector v. El vector cero es el vector (0, 0)\n",
    "\n",
    "**Magnitud o Longitud de Un Vector**\n",
    "\n",
    "Sea $v = (a,b)$\n",
    "\n",
    "## $|v|$ = magnitud de $v$ = $\\sqrt{a^2 + b^2}$\n",
    "\n",
    "**Direccion de un Vector**\n",
    "\n",
    "Se define la dirección del vector $v = (a, b)$ como el ángulo $\\theta$, medido en radianes, que forma el vector con el lado positivo del eje x. Por convención, se escoge $\\theta$ tal que $0<=\\theta < 2\\pi$ . \n",
    "\n",
    "$tan(\\theta)=\\frac{b}{a}$\n",
    "\n",
    "**Representado un Vector con Vectores Unitarios**\n",
    "\n",
    "Sea $v = (a,b)$, se puede representar como $v=ai + bj$. Donde $i$ y $j$ son vectores unitarios. Dichos vectores tienes las siguientes propiedades:\n",
    "\n",
    "- Ninguno es multiplo de otro(son linealmente independietes\n",
    "- cualquier vector $v$ se puede escribir en terminos de $i$ y $j$\n",
    "\n",
    "**Vector Unitario**\n",
    "\n",
    "Es un vector de longitud 1.\n",
    "\n",
    "![unitario](./images/unitario.JPG)\n",
    "\n",
    "### Ejemplo\n",
    "\n",
    "Comprobar que el vector $v$ = $\\frac{1}{2}i$ + $\\frac{\\sqrt{3}}{2}j$ es unitario\n",
    "\n"
   ]
  },
  {
   "cell_type": "code",
   "execution_count": 90,
   "metadata": {},
   "outputs": [
    {
     "data": {
      "text/plain": [
       "1.0"
      ]
     },
     "execution_count": 90,
     "metadata": {},
     "output_type": "execute_result"
    }
   ],
   "source": [
    "import numpy as np\n",
    "from numpy import linalg\n",
    "\n",
    "v_0 = np.array([[0.5],[np.sqrt(3)/2]])\n",
    "np.round(linalg.norm(v_0))"
   ]
  },
  {
   "cell_type": "markdown",
   "metadata": {},
   "source": [
    "### Ejercicio\n",
    "\n",
    "Calcular la norma de los siguientes vectores u=(3,4) v=(4,3) w=(0,7)"
   ]
  },
  {
   "cell_type": "code",
   "execution_count": 91,
   "metadata": {},
   "outputs": [
    {
     "name": "stdout",
     "output_type": "stream",
     "text": [
      "[5. 5. 7.]\n"
     ]
    }
   ],
   "source": [
    "v_0 = np.array([3,4,4,3,0,7])\n",
    "v_0 = v_0.reshape(3,2)\n",
    "#print(v_0)\n",
    "print(linalg.norm(v_0, axis=1))"
   ]
  },
  {
   "cell_type": "markdown",
   "metadata": {},
   "source": [
    "## El producto Escalar y las proyecciones en $R^2$\n",
    "\n",
    "***Definicion*\n",
    "\n",
    "Sean $u$ y $v$ dos vectores diferentes de cero. Si $\\varphi$ es el ángulo entre ellos, entonces:\n"
   ]
  },
  {
   "cell_type": "markdown",
   "metadata": {},
   "source": [
    "\n",
    "## $cos\\varphi = \\frac{u·v}{|u||v|}$\n",
    "\n",
    "Lo que equivale tambien a definir el producto punto o escalar como:\n",
    "\n"
   ]
  },
  {
   "cell_type": "markdown",
   "metadata": {},
   "source": [
    "\n",
    "## $u·v = |u||v| cos\\varphi$"
   ]
  },
  {
   "cell_type": "markdown",
   "metadata": {},
   "source": [
    "### Ejercicio\n",
    "\n",
    "Encuentre el ángulo entre los vectores $u$ = 2i + 3j   y   $v$ = -7i + j. Grafique"
   ]
  },
  {
   "cell_type": "code",
   "execution_count": 92,
   "metadata": {},
   "outputs": [
    {
     "data": {
      "text/plain": [
       "(-0.5, 3.5)"
      ]
     },
     "execution_count": 92,
     "metadata": {},
     "output_type": "execute_result"
    },
    {
     "data": {
      "image/png": "[encoded data removed]",
      "text/plain": [
       "<Figure size 432x288 with 1 Axes>"
      ]
     },
     "metadata": {
      "needs_background": "light"
     },
     "output_type": "display_data"
    }
   ],
   "source": [
    "%matplotlib inline\n",
    "\n",
    "import numpy as np \n",
    "import matplotlib.pyplot as plt\n",
    "from numpy import linalg \n",
    "\n",
    "%run \"Funciones/graficarVectores1.ipynb\"\n",
    "\n",
    "v_0 = np.array([2, 3])\n",
    "v_1 = np.array([-7, 1])\n",
    "\n",
    "graficarVectores([v_0, v_1], cols= ['orange','blue'])\n",
    "\n",
    "plt.xlim(-7.5, 2.5)\n",
    "plt.ylim(-0.5, 3.5)\n"
   ]
  },
  {
   "cell_type": "code",
   "execution_count": 93,
   "metadata": {},
   "outputs": [
    {
     "name": "stdout",
     "output_type": "stream",
     "text": [
      "-0.43145549730400484\n",
      "el angulo en radianes es: 2.0169018757383004\n",
      "el angulo en grados es: 115.55996517182382\n"
     ]
    }
   ],
   "source": [
    "cos_fi = np.dot(v_0,v_1)/(linalg.norm(v_0)*linalg.norm(v_1))\n",
    "angle = np.arccos(cos_fi)\n",
    "print(cos_fi)\n",
    "print('el angulo en radianes es:', angle)\n",
    "print('el angulo en grados es:', np.degrees(angle))"
   ]
  },
  {
   "cell_type": "markdown",
   "metadata": {},
   "source": [
    "## Vectores Ortogonales\n",
    "\n",
    "Los vectores $u$ y $v$ son ortogonales (o perpendiculares) si el ángulo entre ellos es $\\frac{\\pi}{2}$\n",
    "\n",
    "Si $u·v = 0$ entonces $u$ y $v$ son ortogonales\n",
    "\n",
    "## Proyeccion\n",
    "\n",
    "sean $u$ y $v$ dos vectores. Entonces la **proyección** de $u$ sobre $v$ es un vector denotado por $proy_v u$, que se define por:\n",
    "\n",
    "# $proy_v u = \\frac{u·v}{|v|^2}v$  Proyecion de $u$ sobre v"
   ]
  },
  {
   "cell_type": "markdown",
   "metadata": {},
   "source": [
    "La componente de $u$ en la direccion de $v$ es:\n",
    "\n",
    "## $\\frac{u·v}{|v|}$ y es un escalar\n",
    "\n",
    "Observe que $\\frac{v}{|v|}$ es un vector unitario en la direccion de $v$\n",
    "\n",
    "![unitario](./images/proyec.JPG)"
   ]
  },
  {
   "cell_type": "markdown",
   "metadata": {},
   "source": [
    "### Ejemplo\n",
    "\n",
    "Sean u=2i + 3j   v= i + j. Calcule $proy_v u$\n",
    "\n",
    "Antes de graficar, vamos a estimar si la $proy_v u$ estan en la misma direccion o direcciones opuestas"
   ]
  },
  {
   "cell_type": "code",
   "execution_count": 94,
   "metadata": {},
   "outputs": [
    {
     "data": {
      "text/plain": [
       "5"
      ]
     },
     "execution_count": 94,
     "metadata": {},
     "output_type": "execute_result"
    }
   ],
   "source": [
    "v_0 = np.array([2, 3])\n",
    "v_1 = np.array([1, 1])\n",
    "\n",
    "np.dot(v_0,v_1)\n"
   ]
  },
  {
   "cell_type": "markdown",
   "metadata": {},
   "source": [
    "Como es producto punto es mayor que 0, concluimos estan en la misma direccion, ahora si a graficar"
   ]
  },
  {
   "cell_type": "code",
   "execution_count": 95,
   "metadata": {},
   "outputs": [
    {
     "data": {
      "text/plain": [
       "(-0.5, 3.5)"
      ]
     },
     "execution_count": 95,
     "metadata": {},
     "output_type": "execute_result"
    },
    {
     "data": {
      "image/png": "[encoded data removed]",
      "text/plain": [
       "<Figure size 432x288 with 1 Axes>"
      ]
     },
     "metadata": {
      "needs_background": "light"
     },
     "output_type": "display_data"
    }
   ],
   "source": [
    "\n",
    "graficarVectores([v_0, v_1], cols= ['orange','blue'])\n",
    "\n",
    "plt.xlim(-0.5, 2.5)\n",
    "plt.ylim(-0.5, 3.5)\n"
   ]
  },
  {
   "cell_type": "code",
   "execution_count": 96,
   "metadata": {},
   "outputs": [
    {
     "name": "stdout",
     "output_type": "stream",
     "text": [
      "[2.5 2.5]\n",
      "el vector amarillo es la proyeccion del naranja sobre el azul\n"
     ]
    },
    {
     "data": {
      "text/plain": [
       "(-0.5, 3.5)"
      ]
     },
     "execution_count": 96,
     "metadata": {},
     "output_type": "execute_result"
    },
    {
     "data": {
      "image/png": "[encoded data removed]",
      "text/plain": [
       "<Figure size 432x288 with 1 Axes>"
      ]
     },
     "metadata": {
      "needs_background": "light"
     },
     "output_type": "display_data"
    }
   ],
   "source": [
    "np.set_printoptions(suppress=True)\n",
    "\n",
    "proyeccion_v_0 = (np.dot(v_0,v_1)/(linalg.norm(v_1)**2))\n",
    "proyeccion_v_0 = proyeccion_v_0 * v_1\n",
    "\n",
    "proyeccion_v_0.shape\n",
    "print(proyeccion_v_0)\n",
    "print('el vector amarillo es la proyeccion del naranja sobre el azul')\n",
    "\n",
    "graficarVectores([v_0, v_1, proyeccion_v_0], cols= ['orange','blue', 'yellow'])\n",
    "plt.xlim(-0.5, 2.9)\n",
    "plt.ylim(-0.5, 3.5)\n"
   ]
  },
  {
   "cell_type": "markdown",
   "metadata": {},
   "source": [
    "### Ejemplo \n",
    "\n",
    "Sean u = 2i - 3j   v = i + j. Calcular $proy_vu$"
   ]
  },
  {
   "cell_type": "code",
   "execution_count": 97,
   "metadata": {},
   "outputs": [
    {
     "data": {
      "text/plain": [
       "-1"
      ]
     },
     "execution_count": 97,
     "metadata": {},
     "output_type": "execute_result"
    }
   ],
   "source": [
    "v_0 = np.array([2,-3])\n",
    "v_1 = np.array([1,1])\n",
    "\n",
    "np.dot(v_0,v_1)"
   ]
  },
  {
   "cell_type": "markdown",
   "metadata": {},
   "source": [
    "Como es producto punto es menor que 0, concluimos estan en direcciones opuestas, asi la grafica este rara, ahora si a graficar"
   ]
  },
  {
   "cell_type": "code",
   "execution_count": 98,
   "metadata": {},
   "outputs": [
    {
     "data": {
      "text/plain": [
       "(-3.5, 3.5)"
      ]
     },
     "execution_count": 98,
     "metadata": {},
     "output_type": "execute_result"
    },
    {
     "data": {
      "image/png": "[encoded data removed]",
      "text/plain": [
       "<Figure size 432x288 with 1 Axes>"
      ]
     },
     "metadata": {
      "needs_background": "light"
     },
     "output_type": "display_data"
    }
   ],
   "source": [
    "graficarVectores([v_0, v_1], cols= ['orange','blue'])\n",
    "\n",
    "plt.xlim(-0.5, 2.5)\n",
    "plt.ylim(-3.5, 3.5)"
   ]
  },
  {
   "cell_type": "markdown",
   "metadata": {},
   "source": [
    "Esta es la grafica del texto ![](./images/proy1.JPG)\n",
    "\n"
   ]
  },
  {
   "cell_type": "code",
   "execution_count": 99,
   "metadata": {},
   "outputs": [
    {
     "name": "stdout",
     "output_type": "stream",
     "text": [
      "[-0.5 -0.5]\n"
     ]
    }
   ],
   "source": [
    "np.set_printoptions(suppress=True)\n",
    "\n",
    "proyeccion_v_0 = (np.dot(v_0,v_1)/(linalg.norm(v_1)**2))\n",
    "proyeccion_v_0 = proyeccion_v_0 * v_1\n",
    "\n",
    "proyeccion_v_0.shape\n",
    "print(proyeccion_v_0)"
   ]
  },
  {
   "cell_type": "markdown",
   "metadata": {},
   "source": [
    "# El Determinante, la escencia del algebra lineal\n",
    "\n",
    "Hemos venido discutiendo que las matrices aplicadas a los vectores, realizan una transformacion sobre los mismos. Una particular forma de ver una transformacion en $R^2$ es observar que tanto el area entre dos vectores se agranda, se reduce, o simplemente desaparece. Es decir **que tanto el area se escala**\n",
    "\n",
    "Veamolo con un ejemplo. Definamos una matriz A, y apliquemola sobre un par de vectores"
   ]
  },
  {
   "cell_type": "markdown",
   "metadata": {},
   "source": [
    "### Ejemplo 1"
   ]
  },
  {
   "cell_type": "code",
   "execution_count": 100,
   "metadata": {},
   "outputs": [
    {
     "name": "stdout",
     "output_type": "stream",
     "text": [
      "[[3 0]\n",
      " [0 2]]\n"
     ]
    }
   ],
   "source": [
    "import numpy as np\n",
    "import matplotlib.pyplot as plt\n",
    "\n",
    "%run \"Funciones/graficarVectores1.ipynb\"\n",
    "\n",
    "A = np.array([[3,0],[0,2]])\n",
    "print(A)"
   ]
  },
  {
   "cell_type": "code",
   "execution_count": 101,
   "metadata": {},
   "outputs": [
    {
     "data": {
      "text/plain": [
       "(2, 1)"
      ]
     },
     "execution_count": 101,
     "metadata": {},
     "output_type": "execute_result"
    }
   ],
   "source": [
    "v_y = np.array([[0,1]]).T\n",
    "v_x = np.array([[1,0]]).T\n",
    "v_x.shape"
   ]
  },
  {
   "cell_type": "code",
   "execution_count": 102,
   "metadata": {},
   "outputs": [
    {
     "data": {
      "text/plain": [
       "Text(0.5, 1.0, 'Vectores Originales')"
      ]
     },
     "execution_count": 102,
     "metadata": {},
     "output_type": "execute_result"
    },
    {
     "data": {
      "image/png": "[encoded data removed]",
      "text/plain": [
       "<Figure size 432x288 with 1 Axes>"
      ]
     },
     "metadata": {
      "needs_background": "light"
     },
     "output_type": "display_data"
    }
   ],
   "source": [
    "graficarVectores([v_x.flatten(), v_y.flatten()], cols= ['orange','blue'])\n",
    "\n",
    "plt.xlim(-0.5, 1.5)\n",
    "plt.ylim(-0.5, 1.5)\n",
    "plt.title('Vectores Originales')"
   ]
  },
  {
   "cell_type": "code",
   "execution_count": 103,
   "metadata": {},
   "outputs": [
    {
     "name": "stdout",
     "output_type": "stream",
     "text": [
      "v_x transformado = [3 0]\n",
      "v_y transformado = [0 2]\n"
     ]
    }
   ],
   "source": [
    "v_x = A.dot(v_x)\n",
    "v_y = A.dot(v_y)\n",
    "print('v_x transformado =', v_x.flatten())\n",
    "print('v_y transformado =', v_y.flatten())"
   ]
  },
  {
   "cell_type": "code",
   "execution_count": 104,
   "metadata": {},
   "outputs": [
    {
     "data": {
      "text/plain": [
       "Text(0.5, 1.0, 'Vectores Trasnformados')"
      ]
     },
     "execution_count": 104,
     "metadata": {},
     "output_type": "execute_result"
    },
    {
     "data": {
      "image/png": "[encoded data removed]",
      "text/plain": [
       "<Figure size 432x288 with 1 Axes>"
      ]
     },
     "metadata": {
      "needs_background": "light"
     },
     "output_type": "display_data"
    }
   ],
   "source": [
    "graficarVectores([v_x.flatten(), v_y.flatten()], cols= ['orange','blue'])\n",
    "\n",
    "plt.xlim(-0.5, 3.5)\n",
    "plt.ylim(-0.5, 2.5)\n",
    "plt.title('Vectores Trasnformados')"
   ]
  },
  {
   "cell_type": "markdown",
   "metadata": {},
   "source": [
    "Hemos observado que el vector unitario en $x$ se ha escalado en un factor de 3, mientras que el vector en $y$ se ha escalado por un factor de 2.\n",
    "\n",
    "El area original era 1, y la nueva area es ahora mayor, e igual a 6. Si calculamos el determinante de la matriz, vemos que el determinante es 6. ¿Interesante, no?\n",
    "\n",
    "Calculemos el area entre los nuevos vectores"
   ]
  },
  {
   "cell_type": "code",
   "execution_count": 105,
   "metadata": {},
   "outputs": [
    {
     "name": "stdout",
     "output_type": "stream",
     "text": [
      "[[0 3 3 0]\n",
      " [0 0 2 2]]\n"
     ]
    },
    {
     "data": {
      "text/plain": [
       "(-0.5, 2.5)"
      ]
     },
     "execution_count": 105,
     "metadata": {},
     "output_type": "execute_result"
    },
    {
     "data": {
      "image/png": "[encoded data removed]",
      "text/plain": [
       "<Figure size 432x288 with 1 Axes>"
      ]
     },
     "metadata": {
      "needs_background": "light"
     },
     "output_type": "display_data"
    }
   ],
   "source": [
    "%run \"Funciones/draw_paralelogram.ipynb\"\n",
    "\n",
    "v_x = v_x.reshape(1,2)\n",
    "v_y = v_y.reshape(1,2)\n",
    "\n",
    "draw_paralelogram(v_1=v_x, v_2 =v_y)\n",
    "plt.xlim(-0.5, 3.5)\n",
    "plt.ylim(-0.5, 2.5)"
   ]
  },
  {
   "cell_type": "markdown",
   "metadata": {},
   "source": [
    "\n",
    "Veamos otro ejemplo."
   ]
  },
  {
   "cell_type": "code",
   "execution_count": 106,
   "metadata": {},
   "outputs": [
    {
     "name": "stdout",
     "output_type": "stream",
     "text": [
      "Determinate de la matriz A = 6.0\n"
     ]
    }
   ],
   "source": [
    "print('Determinate de la matriz A =', np.linalg.det(A))"
   ]
  },
  {
   "cell_type": "markdown",
   "metadata": {},
   "source": [
    "## Ejemplo 2\n",
    "\n",
    "Sea la matriz A, apliquela sobre los vectores unitarios en $x$ y $y$"
   ]
  },
  {
   "cell_type": "code",
   "execution_count": 107,
   "metadata": {},
   "outputs": [
    {
     "name": "stdout",
     "output_type": "stream",
     "text": [
      "[[1 1]\n",
      " [0 1]]\n"
     ]
    },
    {
     "data": {
      "text/plain": [
       "(2,)"
      ]
     },
     "execution_count": 107,
     "metadata": {},
     "output_type": "execute_result"
    }
   ],
   "source": [
    "A = np.array([[1,1],[0,1]])\n",
    "print(A)\n",
    "\n",
    "v_x = np.array([1,0])\n",
    "v_y = np.array([0,1])\n",
    "v_x.shape"
   ]
  },
  {
   "cell_type": "code",
   "execution_count": 108,
   "metadata": {},
   "outputs": [
    {
     "name": "stdout",
     "output_type": "stream",
     "text": [
      "v_x transformado = [1 0]\n",
      "v_y transformado = [1 1]\n"
     ]
    }
   ],
   "source": [
    "v_x = A.dot(v_x)\n",
    "v_y = A.dot(v_y)\n",
    "print('v_x transformado =', v_x)\n",
    "print('v_y transformado =', v_y)"
   ]
  },
  {
   "cell_type": "code",
   "execution_count": 109,
   "metadata": {},
   "outputs": [
    {
     "data": {
      "text/plain": [
       "Text(0.5, 1.0, 'Vectores Trasnformados')"
      ]
     },
     "execution_count": 109,
     "metadata": {},
     "output_type": "execute_result"
    },
    {
     "data": {
      "image/png": "[encoded data removed]",
      "text/plain": [
       "<Figure size 432x288 with 1 Axes>"
      ]
     },
     "metadata": {
      "needs_background": "light"
     },
     "output_type": "display_data"
    }
   ],
   "source": [
    "graficarVectores([v_x.flatten(), v_y.flatten()], cols= ['orange','blue'])\n",
    "\n",
    "plt.xlim(-0.5, 1.5)\n",
    "plt.ylim(-0.5, 1.5)\n",
    "plt.title('Vectores Trasnformados')"
   ]
  },
  {
   "cell_type": "markdown",
   "metadata": {},
   "source": [
    "Calcularemos ahora el area dada por estos dos vectores"
   ]
  },
  {
   "cell_type": "code",
   "execution_count": 110,
   "metadata": {},
   "outputs": [
    {
     "name": "stdout",
     "output_type": "stream",
     "text": [
      "[[0 1 2 1]\n",
      " [0 0 1 1]]\n"
     ]
    },
    {
     "data": {
      "text/plain": [
       "(-0.5, 1.5)"
      ]
     },
     "execution_count": 110,
     "metadata": {},
     "output_type": "execute_result"
    },
    {
     "data": {
      "image/png": "[encoded data removed]",
      "text/plain": [
       "<Figure size 432x288 with 1 Axes>"
      ]
     },
     "metadata": {
      "needs_background": "light"
     },
     "output_type": "display_data"
    }
   ],
   "source": [
    "import numpy as np\n",
    "\n",
    "%run \"Funciones/draw_paralelogram.ipynb\"\n",
    "\n",
    "v_x = v_x.reshape(1,2)\n",
    "v_y = v_y.reshape(1,2)\n",
    "\n",
    "draw_paralelogram(v_1=v_x, v_2 =v_y)\n",
    "plt.xlim(-0.5, 2.5)\n",
    "plt.ylim(-0.5, 1.5)\n"
   ]
  },
  {
   "cell_type": "markdown",
   "metadata": {},
   "source": [
    "El area original es 1, y la nueva area, seria el paralelogramo formado por estos dos vectores, y seguiria siendo 1. De igual forma, el determinante de la matriz $A$ es 1, tambien. ¿Coincidencia?"
   ]
  },
  {
   "cell_type": "code",
   "execution_count": 111,
   "metadata": {},
   "outputs": [
    {
     "name": "stdout",
     "output_type": "stream",
     "text": [
      "determiante de A = 1.0\n"
     ]
    }
   ],
   "source": [
    "print('determiante de A =', np.linalg.det(A))"
   ]
  },
  {
   "cell_type": "markdown",
   "metadata": {},
   "source": [
    "Este especial **factor de escala** es llamado el DETERMINANTE de dicha transformacion."
   ]
  },
  {
   "cell_type": "markdown",
   "metadata": {},
   "source": [
    "### Ejemplo 3\n",
    "\n",
    "Sea la matriz A, apliquela sobre los vectores unitarios en $x$ y $y$"
   ]
  },
  {
   "cell_type": "code",
   "execution_count": 112,
   "metadata": {},
   "outputs": [
    {
     "name": "stdout",
     "output_type": "stream",
     "text": [
      "[[ 0.   2. ]\n",
      " [-1.5  1. ]]\n"
     ]
    },
    {
     "data": {
      "text/plain": [
       "(2,)"
      ]
     },
     "execution_count": 112,
     "metadata": {},
     "output_type": "execute_result"
    }
   ],
   "source": [
    "A = np.array([[0,2],[-1.5,1]])\n",
    "print(A)\n",
    "\n",
    "v_x = np.array([1,0])\n",
    "v_y = np.array([0,1])\n",
    "v_x.shape"
   ]
  },
  {
   "cell_type": "code",
   "execution_count": 113,
   "metadata": {},
   "outputs": [
    {
     "name": "stdout",
     "output_type": "stream",
     "text": [
      "v_x transformado = [ 0.  -1.5]\n",
      "v_y transformado = [2. 1.]\n"
     ]
    }
   ],
   "source": [
    "v_x = A.dot(v_x)\n",
    "v_y = A.dot(v_y)\n",
    "print('v_x transformado =', v_x)\n",
    "print('v_y transformado =', v_y)"
   ]
  },
  {
   "cell_type": "code",
   "execution_count": 114,
   "metadata": {},
   "outputs": [
    {
     "data": {
      "text/plain": [
       "Text(0.5, 1.0, 'Vectores Trasnformados')"
      ]
     },
     "execution_count": 114,
     "metadata": {},
     "output_type": "execute_result"
    },
    {
     "data": {
      "image/png": "[encoded data removed]",
      "text/plain": [
       "<Figure size 432x288 with 1 Axes>"
      ]
     },
     "metadata": {
      "needs_background": "light"
     },
     "output_type": "display_data"
    }
   ],
   "source": [
    "graficarVectores([v_x.flatten(), v_y.flatten()], cols= ['orange','blue'])\n",
    "\n",
    "plt.xlim(-0.5, 2.5)\n",
    "plt.ylim(-1.5, 1.5)\n",
    "plt.title('Vectores Trasnformados')"
   ]
  },
  {
   "cell_type": "code",
   "execution_count": 115,
   "metadata": {},
   "outputs": [
    {
     "name": "stdout",
     "output_type": "stream",
     "text": [
      "[[ 0.   0.   2.   2. ]\n",
      " [ 0.  -1.5 -0.5  1. ]]\n"
     ]
    },
    {
     "data": {
      "text/plain": [
       "(-1.5, 1.5)"
      ]
     },
     "execution_count": 115,
     "metadata": {},
     "output_type": "execute_result"
    },
    {
     "data": {
      "image/png": "[encoded data removed]",
      "text/plain": [
       "<Figure size 432x288 with 1 Axes>"
      ]
     },
     "metadata": {
      "needs_background": "light"
     },
     "output_type": "display_data"
    }
   ],
   "source": [
    "%run \"Funciones/draw_paralelogram.ipynb\"\n",
    "\n",
    "v_x = v_x.reshape(1,2)\n",
    "v_y = v_y.reshape(1,2)\n",
    "\n",
    "draw_paralelogram(v_1=v_x, v_2 =v_y)\n",
    "plt.xlim(-0.5, 2.5)\n",
    "plt.ylim(-1.5, 1.5)"
   ]
  },
  {
   "cell_type": "code",
   "execution_count": 119,
   "metadata": {},
   "outputs": [
    {
     "name": "stdout",
     "output_type": "stream",
     "text": [
      "determiante de A = 2.9999999999999996\n"
     ]
    }
   ],
   "source": [
    "print('determiante de A =', np.linalg.det(A))"
   ]
  },
  {
   "cell_type": "markdown",
   "metadata": {},
   "source": [
    "## Cuando el Determinante es Cero\n",
    "\n",
    "Significa los vectores se transforman de tal forma, que coinciden en una misma direccion, y por tanto no hay un area a calcular"
   ]
  },
  {
   "cell_type": "code",
   "execution_count": 125,
   "metadata": {},
   "outputs": [
    {
     "name": "stdout",
     "output_type": "stream",
     "text": [
      "[[ 4 -1]\n",
      " [ 4 -1]]\n"
     ]
    }
   ],
   "source": [
    "A = np.array([[4,-1],[4,-1]])\n",
    "print(A)\n",
    "\n",
    "v_x = np.array([1,0])\n",
    "v_y = np.array([0,1])"
   ]
  },
  {
   "cell_type": "code",
   "execution_count": 126,
   "metadata": {},
   "outputs": [
    {
     "name": "stdout",
     "output_type": "stream",
     "text": [
      "v_x transformado = [4 4]\n",
      "v_y transformado = [-1 -1]\n"
     ]
    }
   ],
   "source": [
    "v_x = A.dot(v_x)\n",
    "v_y = A.dot(v_y)\n",
    "print('v_x transformado =', v_x)\n",
    "print('v_y transformado =', v_y)"
   ]
  },
  {
   "cell_type": "code",
   "execution_count": 127,
   "metadata": {},
   "outputs": [
    {
     "data": {
      "text/plain": [
       "Text(0.5, 1.0, 'Vectores Trasnformados')"
      ]
     },
     "execution_count": 127,
     "metadata": {},
     "output_type": "execute_result"
    },
    {
     "data": {
      "image/png": "[encoded data removed]",
      "text/plain": [
       "<Figure size 432x288 with 1 Axes>"
      ]
     },
     "metadata": {
      "needs_background": "light"
     },
     "output_type": "display_data"
    }
   ],
   "source": [
    "graficarVectores([v_x.flatten(), v_y.flatten()], cols= ['orange','blue'])\n",
    "\n",
    "plt.xlim(-1.5, 4.5)\n",
    "plt.ylim(-1.5, 4.5)\n",
    "plt.title('Vectores Trasnformados')"
   ]
  },
  {
   "cell_type": "markdown",
   "metadata": {},
   "source": [
    "## Cuando el Determinante es negativo\n",
    "\n",
    "¿Que signnifica realemente escalar un area por un factor negativo?\n",
    "\n",
    "En este caso tiene que ver con la orientacion. Supongamos dibujamos en una hoja en blanco nuestros vectores unitarios, y voltemos completamente la hoja por el reveros.\n",
    "\n",
    "Cada vez que ocurre esto se invierte completamente la orientacion del espacio, y el determiante sera negativo\n",
    "\n",
    "Veamos un ejemplo."
   ]
  },
  {
   "cell_type": "markdown",
   "metadata": {},
   "source": [
    "### Ejemplo 4\n",
    "\n",
    "Sea la matriz A, determine como esta afecta el espacio sobre los vectores unitarios"
   ]
  },
  {
   "cell_type": "code",
   "execution_count": 131,
   "metadata": {},
   "outputs": [
    {
     "name": "stdout",
     "output_type": "stream",
     "text": [
      "[[ 2  1]\n",
      " [-1 -3]]\n"
     ]
    }
   ],
   "source": [
    "A = np.array([[2,1],[-1,-3]])\n",
    "print(A)\n",
    "\n",
    "v_x = np.array([1,0])\n",
    "v_y = np.array([0,1])"
   ]
  },
  {
   "cell_type": "code",
   "execution_count": 134,
   "metadata": {},
   "outputs": [
    {
     "data": {
      "text/plain": [
       "Text(0.5, 1.0, 'Vectores Originales')"
      ]
     },
     "execution_count": 134,
     "metadata": {},
     "output_type": "execute_result"
    },
    {
     "data": {
      "image/png": "[encoded data removed]",
      "text/plain": [
       "<Figure size 432x288 with 1 Axes>"
      ]
     },
     "metadata": {
      "needs_background": "light"
     },
     "output_type": "display_data"
    }
   ],
   "source": [
    "graficarVectores([v_x.flatten(), v_y.flatten()], cols= ['orange','blue'])\n",
    "\n",
    "plt.xlim(-0.5, 1.5)\n",
    "plt.ylim(-0.5, 1.5)\n",
    "plt.title('Vectores Originales')"
   ]
  },
  {
   "cell_type": "markdown",
   "metadata": {},
   "source": [
    "Observe que los vectores originales, donde para ir desde $i$ a $j$ hay que ir **en contra de las manecillas del reloj(CCK)** "
   ]
  },
  {
   "cell_type": "code",
   "execution_count": 135,
   "metadata": {},
   "outputs": [
    {
     "name": "stdout",
     "output_type": "stream",
     "text": [
      "v_x transformado = [ 2 -1]\n",
      "v_y transformado = [ 1 -3]\n"
     ]
    }
   ],
   "source": [
    "v_x = A.dot(v_x)\n",
    "v_y = A.dot(v_y)\n",
    "print('v_x transformado =', v_x)\n",
    "print('v_y transformado =', v_y)"
   ]
  },
  {
   "cell_type": "code",
   "execution_count": 136,
   "metadata": {},
   "outputs": [
    {
     "data": {
      "text/plain": [
       "Text(0.5, 1.0, 'Vectores Trasnformados')"
      ]
     },
     "execution_count": 136,
     "metadata": {},
     "output_type": "execute_result"
    },
    {
     "data": {
      "image/png": "[encoded data removed]",
      "text/plain": [
       "<Figure size 432x288 with 1 Axes>"
      ]
     },
     "metadata": {
      "needs_background": "light"
     },
     "output_type": "display_data"
    }
   ],
   "source": [
    "graficarVectores([v_x.flatten(), v_y.flatten()], cols= ['orange','blue'])\n",
    "\n",
    "plt.xlim(-0.5, 2.5)\n",
    "plt.ylim(-3.5, 1.5)\n",
    "plt.title('Vectores Trasnformados')"
   ]
  },
  {
   "cell_type": "markdown",
   "metadata": {},
   "source": [
    "Note ahora que para ir del vector naranja al azul, hay que moverse en **el sentido de las manecillas del reloj(CK)**. El determinate no obstante, ilustrara en cuanto se ha agrandado o achicado el area, tal y como lo vimos en los ejemplos anteriores"
   ]
  },
  {
   "cell_type": "code",
   "execution_count": 139,
   "metadata": {},
   "outputs": [
    {
     "name": "stdout",
     "output_type": "stream",
     "text": [
      "[[ 0  2  3  1]\n",
      " [ 0 -1 -4 -3]]\n"
     ]
    },
    {
     "data": {
      "text/plain": [
       "(-4.5, 1.5)"
      ]
     },
     "execution_count": 139,
     "metadata": {},
     "output_type": "execute_result"
    },
    {
     "data": {
      "image/png": "[encoded data removed]",
      "text/plain": [
       "<Figure size 432x288 with 1 Axes>"
      ]
     },
     "metadata": {
      "needs_background": "light"
     },
     "output_type": "display_data"
    }
   ],
   "source": [
    "%run \"Funciones/draw_paralelogram.ipynb\"\n",
    "\n",
    "v_x = v_x.reshape(1,2)\n",
    "v_y = v_y.reshape(1,2)\n",
    "\n",
    "draw_paralelogram(v_1=v_x, v_2 =v_y)\n",
    "plt.xlim(-0.5, 3.5)\n",
    "plt.ylim(-4.5, 1.5)"
   ]
  },
  {
   "cell_type": "code",
   "execution_count": null,
   "metadata": {},
   "outputs": [],
   "source": [
    "\n"
   ]
  },
  {
   "cell_type": "markdown",
   "metadata": {},
   "source": [
    "# Pagina 277"
   ]
  },
  {
   "cell_type": "code",
   "execution_count": null,
   "metadata": {},
   "outputs": [],
   "source": []
  }
 ],
 "metadata": {
  "kernelspec": {
   "display_name": "Python 3.8.10 ('env': venv)",
   "language": "python",
   "name": "python3"
  },
  "language_info": {
   "codemirror_mode": {
    "name": "ipython",
    "version": 3
   },
   "file_extension": ".py",
   "mimetype": "text/x-python",
   "name": "python",
   "nbconvert_exporter": "python",
   "pygments_lexer": "ipython3",
   "version": "3.8.10"
  },
  "orig_nbformat": 4,
  "vscode": {
   "interpreter": {
    "hash": "0e30e19f6a6aedfe14e7563687b3bf0a5e46706c77de22f23e271e96c4b12948"
   }
  }
 },
 "nbformat": 4,
 "nbformat_minor": 2
}
