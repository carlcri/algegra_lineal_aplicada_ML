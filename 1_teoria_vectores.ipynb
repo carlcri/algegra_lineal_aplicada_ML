{
 "cells": [
  {
   "cell_type": "markdown",
   "metadata": {},
   "source": [
    "# Teoria Vectores"
   ]
  },
  {
   "cell_type": "markdown",
   "metadata": {},
   "source": [
    "Este capitulo tiene la intencion de dar las suficientes basicas teoricas para entender el manejo de vecortes, interpretar y leer con claridad los conceptos dados en textos, y en general servir de complemento al curso"
   ]
  },
  {
   "cell_type": "markdown",
   "metadata": {},
   "source": [
    "## El simbolo $R^n$\n",
    "\n",
    "Se usa el simbolo $R^n$ para denotar el conjunto de todos los vectores de dimension *n*. \n",
    "\n",
    "$(a_1, a_2, a_3..., a_n)$ donde *n* es un numero real\n",
    "\n",
    "## Vector renglon de *n* componentes\n",
    "\n",
    "el vector $v_0$ es un vector renglon de 5 componentes"
   ]
  },
  {
   "cell_type": "code",
   "execution_count": 12,
   "metadata": {},
   "outputs": [
    {
     "name": "stdout",
     "output_type": "stream",
     "text": [
      "v= [-1  3  3  5 -1]\n"
     ]
    }
   ],
   "source": [
    "import numpy as np\n",
    "\n",
    "v_0 = np.array([-1,3,3,5,-1])\n",
    "print('v=',v_0)"
   ]
  },
  {
   "cell_type": "markdown",
   "metadata": {},
   "source": [
    "## Vector columna de *n* componentes\n",
    "\n",
    "el vector $v_1$ es un vector columna de 3 componentes"
   ]
  },
  {
   "cell_type": "code",
   "execution_count": 17,
   "metadata": {},
   "outputs": [
    {
     "name": "stdout",
     "output_type": "stream",
     "text": [
      "[[ 2]\n",
      " [ 1]\n",
      " [-1]]\n"
     ]
    }
   ],
   "source": [
    "\n",
    "v_1 = np.array([[2],[1],[-1]])\n",
    "print(v_1)"
   ]
  },
  {
   "cell_type": "markdown",
   "metadata": {},
   "source": [
    "## Producto Escalar o Producto Punto\n",
    "\n",
    "Sean a y b dos vectores. Entonces el *producto escalar* de **a** y **b**, donde\n",
    "\n",
    "**a** = $a_1, a_2, a_3, ..., a_n$ y \n",
    "**b** = $b_1, b_2, b_3, ..., b_n$\n",
    "\n",
    "denotado por **a · b**, esta dado por:\n",
    "\n",
    "**a · b** = $a_1b_1 + a_2b_2 + a_3b_3 + ... + a_nb_n$\n",
    "\n",
    "Observe que el producto escalar de dos vectores de dimensión **n** es un escalar (es decir, es un número).\n",
    "\n",
    "### Ejemplo\n",
    "\n",
    "Encuentre el producto escalar entre a=[-4,-2,3] y b=[3,-2,-5]"
   ]
  },
  {
   "cell_type": "code",
   "execution_count": 19,
   "metadata": {},
   "outputs": [
    {
     "data": {
      "text/plain": [
       "-23"
      ]
     },
     "execution_count": 19,
     "metadata": {},
     "output_type": "execute_result"
    }
   ],
   "source": [
    "v_a = np.array([-4,-2,3])\n",
    "v_b = np.array([3,-2,-5])\n",
    "\n",
    "np.dot(v_a, v_b)"
   ]
  },
  {
   "cell_type": "markdown",
   "metadata": {},
   "source": [
    "### Ejemplo\n",
    "\n",
    "Encuentre el producto escalar entre a=[2,-5,4,-6] y b=[1,0,-7,3]"
   ]
  },
  {
   "cell_type": "code",
   "execution_count": 20,
   "metadata": {},
   "outputs": [
    {
     "data": {
      "text/plain": [
       "-44"
      ]
     },
     "execution_count": 20,
     "metadata": {},
     "output_type": "execute_result"
    }
   ],
   "source": [
    "v_a = np.array([2,-5,4,-6])\n",
    "v_b = np.array([1,0,-7,3])\n",
    "np.dot(v_a,v_b)"
   ]
  },
  {
   "cell_type": "markdown",
   "metadata": {},
   "source": [
    "# Vectores en $R^2$ y $R^3$\n",
    "\n",
    "## Vectores en el Plano"
   ]
  },
  {
   "cell_type": "markdown",
   "metadata": {},
   "source": [
    "$R^2$ es el conjunto de vectores (x1, x2) con xl y x2 números reales. Como cualquier punto en el plano se puede escribir en la forma (x, y), es evidente que se puede pensar que cualquier punto en el plano es un vector en $R^2$\n",
    ", y viceversa. \n",
    "\n",
    "De este modo, los términos “el plano” y $R^2$ con frecuencia son intercambiables. Sin embargo, para muchas aplicaciones físicas (incluyendo las nociones de fuerza, velocidad, aceleración y momento) es importante pensar en un vector no como un punto sino como una entidad que tiene “longitud” y “dirección”. Ahora se verá cómo se lleva a cabo esto."
   ]
  },
  {
   "cell_type": "markdown",
   "metadata": {},
   "source": [
    "### Ejemplo\n",
    "\n",
    "Sean dos puntos en el plano donde P=[1,5] y Q=[2,3], grafique el vector que va de P a Q y luego el Vector que va de Q a P"
   ]
  },
  {
   "cell_type": "code",
   "execution_count": 18,
   "metadata": {},
   "outputs": [
    {
     "name": "stdout",
     "output_type": "stream",
     "text": [
      "[ 1  5  1 -2]\n"
     ]
    },
    {
     "data": {
      "text/plain": [
       "Text(0.5, 1.0, 'vector PQ')"
      ]
     },
     "execution_count": 18,
     "metadata": {},
     "output_type": "execute_result"
    },
    {
     "data": {
      "image/png": "[encoded data removed]",
      "text/plain": [
       "<Figure size 432x288 with 1 Axes>"
      ]
     },
     "metadata": {
      "needs_background": "light"
     },
     "output_type": "display_data"
    }
   ],
   "source": [
    "%matplotlib inline\n",
    "\n",
    "import numpy as np \n",
    "import matplotlib.pyplot as plt\n",
    "\n",
    "%run \"Funciones/graficarVectores1.ipynb\"\n",
    "\n",
    "init_point = np.array([1,5])\n",
    "end_point = np.array([2,3])\n",
    "offset = end_point - init_point\n",
    "\n",
    "x_y = np.concatenate((init_point,offset),axis=None)\n",
    "print(x_y)\n",
    "\n",
    "plt.arrow(*x_y, color = 'orange',width = 0.03)\n",
    "plt.title('vector PQ')\n"
   ]
  },
  {
   "cell_type": "code",
   "execution_count": 19,
   "metadata": {},
   "outputs": [
    {
     "name": "stdout",
     "output_type": "stream",
     "text": [
      "[ 2  3 -1  2]\n"
     ]
    },
    {
     "data": {
      "text/plain": [
       "Text(0.5, 1.0, 'vector QP')"
      ]
     },
     "execution_count": 19,
     "metadata": {},
     "output_type": "execute_result"
    },
    {
     "data": {
      "image/png": "[encoded data removed]",
      "text/plain": [
       "<Figure size 432x288 with 1 Axes>"
      ]
     },
     "metadata": {
      "needs_background": "light"
     },
     "output_type": "display_data"
    }
   ],
   "source": [
    "init_point, end_point = end_point, init_point\n",
    "offset = end_point - init_point\n",
    "\n",
    "x_y = np.concatenate((init_point,offset),axis=None)\n",
    "print(x_y)\n",
    "\n",
    "plt.arrow(*x_y, color = 'red',width = 0.03)\n",
    "plt.title('vector QP')"
   ]
  },
  {
   "cell_type": "markdown",
   "metadata": {},
   "source": [
    "### Definicion Algebraica de un Vector\n",
    "\n",
    "Un **vector v** en el plano xy es un par ordenado de números reales (a, b). Los números a y b se denominan elementos o componentes del vector v. El vector cero es el vector (0, 0)\n",
    "\n",
    "**Magnitud o Longitud de Un Vector**\n",
    "\n",
    "Sea $v = (a,b)$\n",
    "\n",
    "## $|v|$ = magnitud de $v$ = $\\sqrt{a^2 + b^2}$\n",
    "\n",
    "**Direccion de un Vector**\n",
    "\n",
    "Se define la dirección del vector $v = (a, b)$ como el ángulo $\\theta$, medido en radianes, que forma el vector con el lado positivo del eje x. Por convención, se escoge $\\theta$ tal que $0<=\\theta < 2\\pi$ . \n",
    "\n",
    "$tan(\\theta)=\\frac{b}{a}$\n",
    "\n",
    "**Representado un Vector con Vectores Unitarios**\n",
    "\n",
    "Sea $v = (a,b)$, se puede representar como $v=ai + bj$. Donde $i$ y $j$ son vectores unitarios. Dichos vectores tienes las siguientes propiedades:\n",
    "\n",
    "- Ninguno es multiplo de otro(son linealmente independietes\n",
    "- cualquier vector $v$ se puede escribir en terminos de $i$ y $j$\n",
    "\n",
    "**Vector Unitario**\n",
    "\n",
    "Es un vector de longitud 1.\n",
    "\n",
    "![unitario](./images/unitario.JPG)\n",
    "\n",
    "### Ejemplo\n",
    "\n",
    "Comprobar que el vector $v$ = $\\frac{1}{2}i$ + $\\frac{\\sqrt{3}}{2}j$ es unitario\n",
    "\n"
   ]
  },
  {
   "cell_type": "code",
   "execution_count": 27,
   "metadata": {},
   "outputs": [
    {
     "data": {
      "text/plain": [
       "1.0"
      ]
     },
     "execution_count": 27,
     "metadata": {},
     "output_type": "execute_result"
    }
   ],
   "source": [
    "import numpy as np\n",
    "from numpy import linalg\n",
    "\n",
    "v_0 = np.array([[0.5],[np.sqrt(3)/2]])\n",
    "np.round(linalg.norm(v_0))"
   ]
  },
  {
   "cell_type": "markdown",
   "metadata": {},
   "source": [
    "### Ejercicio\n",
    "\n",
    "Calcular la norma de los siguientes vectores u=(3,4) v=(4,3) w=(0,7)"
   ]
  },
  {
   "cell_type": "code",
   "execution_count": 37,
   "metadata": {},
   "outputs": [
    {
     "name": "stdout",
     "output_type": "stream",
     "text": [
      "[5. 5. 7.]\n"
     ]
    }
   ],
   "source": [
    "v_0 = np.array([3,4,4,3,0,7])\n",
    "v_0 = v_0.reshape(3,2)\n",
    "#print(v_0)\n",
    "print(linalg.norm(v_0, axis=1))"
   ]
  },
  {
   "cell_type": "markdown",
   "metadata": {},
   "source": [
    "## El producto Escalar y las proyecciones en $R^2$\n",
    "\n",
    "***Definicion*\n",
    "\n",
    "Sean $u$ y $v$ dos vectores diferentes de cero. Si $\\varphi$ es el ángulo entre ellos, entonces:\n"
   ]
  },
  {
   "cell_type": "markdown",
   "metadata": {},
   "source": [
    "\n",
    "## $cos\\varphi = \\frac{u·v}{|u||v|}$\n",
    "\n",
    "Lo que equivale tambien a definir el producto punto o escalar como:\n",
    "\n"
   ]
  },
  {
   "cell_type": "markdown",
   "metadata": {},
   "source": [
    "\n",
    "## $u·v = |u||v| cos\\varphi$"
   ]
  },
  {
   "cell_type": "markdown",
   "metadata": {},
   "source": [
    "### Ejercicio\n",
    "\n",
    "Encuentre el ángulo entre los vectores $u$ = 2i + 3j   y   $v$ = -7i + j. Grafique"
   ]
  },
  {
   "cell_type": "code",
   "execution_count": 46,
   "metadata": {},
   "outputs": [
    {
     "data": {
      "text/plain": [
       "(-0.5, 3.5)"
      ]
     },
     "execution_count": 46,
     "metadata": {},
     "output_type": "execute_result"
    },
    {
     "data": {
      "image/png": "[encoded data removed]",
      "text/plain": [
       "<Figure size 432x288 with 1 Axes>"
      ]
     },
     "metadata": {
      "needs_background": "light"
     },
     "output_type": "display_data"
    }
   ],
   "source": [
    "%matplotlib inline\n",
    "\n",
    "import numpy as np \n",
    "import matplotlib.pyplot as plt\n",
    "from numpy import linalg \n",
    "\n",
    "%run \"Funciones/graficarVectores1.ipynb\"\n",
    "\n",
    "v_0 = np.array([2, 3])\n",
    "v_1 = np.array([-7, 1])\n",
    "\n",
    "graficarVectores([v_0, v_1], cols= ['orange','blue'])\n",
    "\n",
    "plt.xlim(-7.5, 2.5)\n",
    "plt.ylim(-0.5, 3.5)\n"
   ]
  },
  {
   "cell_type": "code",
   "execution_count": 53,
   "metadata": {},
   "outputs": [
    {
     "name": "stdout",
     "output_type": "stream",
     "text": [
      "-0.43145549730400484\n",
      "el angulo en radianes es: 2.0169018757383004\n",
      "el angulo en grados es: 115.55996517182382\n"
     ]
    }
   ],
   "source": [
    "cos_fi = np.dot(v_0,v_1)/(linalg.norm(v_0)*linalg.norm(v_1))\n",
    "angle = np.arccos(cos_fi)\n",
    "print(cos_fi)\n",
    "print('el angulo en radianes es:', angle)\n",
    "print('el angulo en grados es:', np.degrees(angle))"
   ]
  },
  {
   "cell_type": "markdown",
   "metadata": {},
   "source": [
    "## Vectores Ortogonales\n",
    "\n",
    "Los vectores $u$ y $v$ son ortogonales (o perpendiculares) si el ángulo entre ellos es $\\frac{\\pi}{2}$\n",
    "\n",
    "Si $u·v = 0$ entonces $u$ y $v$ son ortogonales\n",
    "\n",
    "## Proyeccion\n",
    "\n",
    "sean $u$ y $v$ dos vectores. Entonces la **proyección** de $u$ sobre $v$ es un vector denotado por $proy_v u$, que se define por:\n",
    "\n",
    "# $proy_v u = \\frac{u·v}{|v|^2}v$  Proyecion de $u$ sobre v"
   ]
  },
  {
   "cell_type": "markdown",
   "metadata": {},
   "source": [
    "La componente de $u$ en la direccion de $v$ es:\n",
    "\n",
    "## $\\frac{u·v}{|v|}$ y es un escalar\n",
    "\n",
    "Observe que $\\frac{v}{|v|}$ es un vector unitario en la direccion de $v$\n",
    "\n",
    "![unitario](./images/proyec.JPG)"
   ]
  },
  {
   "cell_type": "markdown",
   "metadata": {},
   "source": [
    "### Ejemplo\n",
    "\n",
    "Sean u=2i + 3j   v= i + j. Calcule $proy_v u$\n",
    "\n",
    "Antes de graficar, vamos a estimar si la $proy_v u$ estan en la misma direccion o direcciones opuestas"
   ]
  },
  {
   "cell_type": "code",
   "execution_count": 55,
   "metadata": {},
   "outputs": [
    {
     "data": {
      "text/plain": [
       "5"
      ]
     },
     "execution_count": 55,
     "metadata": {},
     "output_type": "execute_result"
    }
   ],
   "source": [
    "v_0 = np.array([2, 3])\n",
    "v_1 = np.array([1, 1])\n",
    "\n",
    "np.dot(v_0,v_1)\n"
   ]
  },
  {
   "cell_type": "markdown",
   "metadata": {},
   "source": [
    "Como es producto punto es mayor que 0, concluimos estan en la misma direccion, ahora si a graficar"
   ]
  },
  {
   "cell_type": "code",
   "execution_count": 56,
   "metadata": {},
   "outputs": [
    {
     "data": {
      "text/plain": [
       "(-0.5, 3.5)"
      ]
     },
     "execution_count": 56,
     "metadata": {},
     "output_type": "execute_result"
    },
    {
     "data": {
      "image/png": "[encoded data removed]",
      "text/plain": [
       "<Figure size 432x288 with 1 Axes>"
      ]
     },
     "metadata": {
      "needs_background": "light"
     },
     "output_type": "display_data"
    }
   ],
   "source": [
    "\n",
    "graficarVectores([v_0, v_1], cols= ['orange','blue'])\n",
    "\n",
    "plt.xlim(-0.5, 2.5)\n",
    "plt.ylim(-0.5, 3.5)\n"
   ]
  },
  {
   "cell_type": "code",
   "execution_count": 82,
   "metadata": {},
   "outputs": [
    {
     "name": "stdout",
     "output_type": "stream",
     "text": [
      "[2.5 2.5]\n",
      "el vector amarillo es la proyeccion del naranja sobre el azul\n"
     ]
    },
    {
     "data": {
      "text/plain": [
       "(-0.5, 3.5)"
      ]
     },
     "execution_count": 82,
     "metadata": {},
     "output_type": "execute_result"
    },
    {
     "data": {
      "image/png": "[encoded data removed]",
      "text/plain": [
       "<Figure size 432x288 with 1 Axes>"
      ]
     },
     "metadata": {
      "needs_background": "light"
     },
     "output_type": "display_data"
    }
   ],
   "source": [
    "np.set_printoptions(suppress=True)\n",
    "\n",
    "proyeccion_v_0 = (np.dot(v_0,v_1)/(linalg.norm(v_1)**2))\n",
    "proyeccion_v_0 = proyeccion_v_0 * v_1\n",
    "\n",
    "proyeccion_v_0.shape\n",
    "print(proyeccion_v_0)\n",
    "print('el vector amarillo es la proyeccion del naranja sobre el azul')\n",
    "\n",
    "graficarVectores([v_0, v_1, proyeccion_v_0], cols= ['orange','blue', 'yellow'])\n",
    "plt.xlim(-0.5, 2.9)\n",
    "plt.ylim(-0.5, 3.5)\n"
   ]
  },
  {
   "cell_type": "markdown",
   "metadata": {},
   "source": [
    "### Ejemplo \n",
    "\n",
    "Sean u = 2i - 3j   v = i + j. Calcular $proy_vu$"
   ]
  },
  {
   "cell_type": "code",
   "execution_count": 83,
   "metadata": {},
   "outputs": [
    {
     "data": {
      "text/plain": [
       "-1"
      ]
     },
     "execution_count": 83,
     "metadata": {},
     "output_type": "execute_result"
    }
   ],
   "source": [
    "v_0 = np.array([2,-3])\n",
    "v_1 = np.array([1,1])\n",
    "\n",
    "np.dot(v_0,v_1)"
   ]
  },
  {
   "cell_type": "markdown",
   "metadata": {},
   "source": [
    "Como es producto punto es menor que 0, concluimos estan en direcciones opuestas, asi la grafica este rara, ahora si a graficar"
   ]
  },
  {
   "cell_type": "code",
   "execution_count": 89,
   "metadata": {},
   "outputs": [
    {
     "data": {
      "text/plain": [
       "(-3.5, 3.5)"
      ]
     },
     "execution_count": 89,
     "metadata": {},
     "output_type": "execute_result"
    },
    {
     "data": {
      "image/png": "[encoded data removed]",
      "text/plain": [
       "<Figure size 432x288 with 1 Axes>"
      ]
     },
     "metadata": {
      "needs_background": "light"
     },
     "output_type": "display_data"
    }
   ],
   "source": [
    "graficarVectores([v_0, v_1], cols= ['orange','blue'])\n",
    "\n",
    "plt.xlim(-0.5, 2.5)\n",
    "plt.ylim(-3.5, 3.5)"
   ]
  },
  {
   "cell_type": "markdown",
   "metadata": {},
   "source": [
    "Esta es la grafica del texto ![](./images/proy1.JPG)\n",
    "\n"
   ]
  },
  {
   "cell_type": "code",
   "execution_count": 90,
   "metadata": {},
   "outputs": [
    {
     "name": "stdout",
     "output_type": "stream",
     "text": [
      "[-0.5 -0.5]\n"
     ]
    }
   ],
   "source": [
    "np.set_printoptions(suppress=True)\n",
    "\n",
    "proyeccion_v_0 = (np.dot(v_0,v_1)/(linalg.norm(v_1)**2))\n",
    "proyeccion_v_0 = proyeccion_v_0 * v_1\n",
    "\n",
    "proyeccion_v_0.shape\n",
    "print(proyeccion_v_0)"
   ]
  },
  {
   "cell_type": "markdown",
   "metadata": {},
   "source": [
    "# Pagina 277"
   ]
  }
 ],
 "metadata": {
  "kernelspec": {
   "display_name": "Python 3.8.10 ('env': venv)",
   "language": "python",
   "name": "python3"
  },
  "language_info": {
   "codemirror_mode": {
    "name": "ipython",
    "version": 3
   },
   "file_extension": ".py",
   "mimetype": "text/x-python",
   "name": "python",
   "nbconvert_exporter": "python",
   "pygments_lexer": "ipython3",
   "version": "3.8.10"
  },
  "orig_nbformat": 4,
  "vscode": {
   "interpreter": {
    "hash": "0e30e19f6a6aedfe14e7563687b3bf0a5e46706c77de22f23e271e96c4b12948"
   }
  }
 },
 "nbformat": 4,
 "nbformat_minor": 2
}
