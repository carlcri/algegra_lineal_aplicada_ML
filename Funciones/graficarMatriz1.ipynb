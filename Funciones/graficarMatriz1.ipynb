{
 "cells": [
  {
   "cell_type": "code",
   "execution_count": 1,
   "metadata": {},
   "outputs": [],
   "source": [
    "\n",
    "def graficarMatriz1(matriz, cols = ['black', 'orange'], title= 'Circulo Transformado'):\n",
    "\n",
    "    %run \"../Funciones/graficarVectores1.ipynb\"\n",
    "\n",
    "    # Ciruculo Unitario\n",
    "    x = np.linspace(-1,1,2100)\n",
    "    y = np.sqrt(1-x**2)\n",
    "    y_neg = -y\n",
    "\n",
    "    # Ciruculo Unitario Transformado -- parte positiva\n",
    "    x1 = matriz[0,0]*x + matriz[0,1]*y\n",
    "    y1 = matriz[1,0]*x + matriz[1,1]*y\n",
    "\n",
    "    # Circulo Unitatario Transoformado -- parte negativa\n",
    "    x1_neg = matriz[0,0]*x + matriz[0,1]*y_neg\n",
    "    y1_neg = matriz[1,0]*x + matriz[1,1]*y_neg\n",
    "\n",
    "    # Grafica Circulo Untario Transformado\n",
    "    plt.plot(x1, y1, color='green', alpha = 0.7)\n",
    "    plt.plot(x1_neg, y1_neg, color='red', alpha = 0.7)\n",
    "    plt.title(title)\n",
    "\n",
    "    # Grafica Vectores\n",
    "    i_vector = matriz[:,0]\n",
    "    j_vector = matriz[:,1]\n",
    "\n",
    "    graficarVectores([i_vector, j_vector], cols=cols)\n",
    "\n",
    "    \n",
    "\n",
    "    \n",
    "    "
   ]
  }
 ],
 "metadata": {
  "kernelspec": {
   "display_name": "Python 3.8.10 ('env': venv)",
   "language": "python",
   "name": "python3"
  },
  "language_info": {
   "codemirror_mode": {
    "name": "ipython",
    "version": 3
   },
   "file_extension": ".py",
   "mimetype": "text/x-python",
   "name": "python",
   "nbconvert_exporter": "python",
   "pygments_lexer": "ipython3",
   "version": "3.8.10"
  },
  "orig_nbformat": 4,
  "vscode": {
   "interpreter": {
    "hash": "0e30e19f6a6aedfe14e7563687b3bf0a5e46706c77de22f23e271e96c4b12948"
   }
  }
 },
 "nbformat": 4,
 "nbformat_minor": 2
}
