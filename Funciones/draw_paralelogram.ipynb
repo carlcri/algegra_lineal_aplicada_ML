{
 "cells": [
  {
   "cell_type": "code",
   "execution_count": 7,
   "metadata": {},
   "outputs": [],
   "source": [
    "import numpy as np\n",
    "from matplotlib import pyplot as plt\n",
    "import matplotlib.patches as patches \n",
    "\n",
    "def draw_paralelogram(v_1, v_2, color='#1190FF'):\n",
    "\n",
    "\n",
    "\n",
    "    A = np.concatenate((np.array([[0,0]]),v_1,v_1+v_2,v_2), axis=0).T\n",
    "    print(A)\n",
    "   \n",
    "    fig = plt.figure()\n",
    "    ax = fig.add_subplot(111)\n",
    "\n",
    "    ax.add_patch(patches.Polygon(xy=list(zip(A[0,:],A[1,:])), color=color))\n",
    "\n",
    "    \n",
    "    plt.title('Area entre los vectores')\n",
    "    plt.axvline(x = 0, color = \"grey\", zorder = 0)\n",
    "    plt.axhline(y = 0, color = \"grey\", zorder = 0)\n",
    "#    plt.xlim(-0.5, 3.5)\n",
    "#    plt.ylim(-0.5, 2.5)\n",
    "#     plt.show()\n",
    "    "
   ]
  }
 ],
 "metadata": {
  "kernelspec": {
   "display_name": "Python 3.8.10 ('env': venv)",
   "language": "python",
   "name": "python3"
  },
  "language_info": {
   "codemirror_mode": {
    "name": "ipython",
    "version": 3
   },
   "file_extension": ".py",
   "mimetype": "text/x-python",
   "name": "python",
   "nbconvert_exporter": "python",
   "pygments_lexer": "ipython3",
   "version": "3.8.10"
  },
  "orig_nbformat": 4,
  "vscode": {
   "interpreter": {
    "hash": "0e30e19f6a6aedfe14e7563687b3bf0a5e46706c77de22f23e271e96c4b12948"
   }
  }
 },
 "nbformat": 4,
 "nbformat_minor": 2
}
