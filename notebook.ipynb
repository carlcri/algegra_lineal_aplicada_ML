{
 "cells": [
  {
   "cell_type": "markdown",
   "metadata": {},
   "source": [
    "# Curso de Algebra Lineal Aplicada para Machine Learning"
   ]
  },
  {
   "cell_type": "markdown",
   "metadata": {},
   "source": [
    "## Preparando el entonrno de trabajo\n",
    "\n",
    "Se crea en el entorno local una carpeta de nombre *algegra_lineal_aplicada_ML* y desde alli se crea un entorno virtual\n",
    "\n",
    "    virtualenv env\n",
    "    source env/bin/activate\n",
    "\n",
    "Desactivemolo un momento mientras creamos un repositorio de git\n",
    "\n",
    "    deactivate\n",
    "    git init\n",
    "    git status\n",
    "\n",
    "Vamos a poner en practica una buena practica, que es ignorar el entorno virtual dentro del repositorio, esto se hace creando un archivo .gitignore. Este archivo sirve para no llevar cosas al repositorio remoto, cuando se vaya a compartir el proyecto. Esto se hace escribiendo dentro de dicho archivo el nombre de la carpeta y un slash:\n",
    "\n",
    "    env/\n",
    "\n"
   ]
  }
 ],
 "metadata": {
  "interpreter": {
   "hash": "eb2fbc10dabcf85f325fd4509c9b709be14449dc123b915e724c223598776e4e"
  },
  "kernelspec": {
   "display_name": "Python 3.9.7 64-bit ('base': conda)",
   "language": "python",
   "name": "python3"
  },
  "language_info": {
   "codemirror_mode": {
    "name": "ipython",
    "version": 3
   },
   "file_extension": ".py",
   "mimetype": "text/x-python",
   "name": "python",
   "nbconvert_exporter": "python",
   "pygments_lexer": "ipython3",
   "version": "3.9.7"
  },
  "orig_nbformat": 4
 },
 "nbformat": 4,
 "nbformat_minor": 2
}
